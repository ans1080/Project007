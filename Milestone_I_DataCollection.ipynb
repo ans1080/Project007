{
 "cells": [
  {
   "cell_type": "markdown",
   "metadata": {},
   "source": [
    "Project 007 - Jupyter Notebook Code  \n",
    "Andy Snitgen  \n",
    "Professor Karen Jin  \n",
    "Comp 574 - Applied Computing II  \n",
    "October 31, 2021  "
   ]
  },
  {
   "cell_type": "code",
   "execution_count": null,
   "metadata": {},
   "outputs": [],
   "source": [
    "import requests, json, time, csv, pandas as pd\n",
    "import matplotlib.pyplot as plt\n",
    "from bs4 import BeautifulSoup\n",
    "\n",
    "# Create the data frame\n",
    "column_names = ['Title', 'Year', 'Actor', 'US Box Office', 'International Revenue', 'Adjusted Revenue', 'Average Rating', 'IMDb Rating', 'Metacritic']\n",
    "df = pd.DataFrame(columns = column_names)"
   ]
  },
  {
   "cell_type": "code",
   "execution_count": null,
   "metadata": {},
   "outputs": [],
   "source": [
    "# Create a function that grabs the relevant data and returns the new row\n",
    "def data(movie_title):\n",
    "    # Set initial API string for IMDB\n",
    "    api_key = \"k_nh5thpq8\"\n",
    "    base_url = \"https://imdb-api.com/en/API/SearchMovie/\"\n",
    "    complete_url = base_url + api_key + \"/\" + movie_title\n",
    "\n",
    "    # Get the title ID\n",
    "    payload = requests.get(complete_url).json()\n",
    "    df_temp = pd.json_normalize(payload['results'])\n",
    "    id_num = df_temp.id.iloc[0]\n",
    "\n",
    "    # use the id number to get the required info\n",
    "    base_url = \"https://imdb-api.com/en/API/Title/\"\n",
    "    complete_url = base_url + api_key + \"/\" + id_num \n",
    "    payload = requests.get(complete_url).json()\n",
    "    df_temp = pd.json_normalize(payload)\n",
    "    df_temp2 = pd.json_normalize(payload['starList'])\n",
    "\n",
    "    # Extract relevant data and put it into variables\n",
    "    title = df_temp.title.iloc[0]\n",
    "    year = df_temp.year.iloc[0]\n",
    "    actor = df_temp2.name.iloc[0]\n",
    "    us_box = df_temp['boxOffice.grossUSA'].iloc[0]\n",
    "    itl_box = df_temp[\"boxOffice.cumulativeWorldwideGross\"].iloc[0]\n",
    "    critic = payload['metacriticRating']\n",
    "    critic = critic + '%'\n",
    "    rating = payload['imDbRating']\n",
    "    if rating == '':\n",
    "        rating = critic\n",
    "        rating = rating.replace('%', '')\n",
    "        rating = float(rating)\n",
    "        rating = rating / 10\n",
    "        rating = str(rating) + ' / 10 (est.)'\n",
    "    else:\n",
    "        rating = rating + ' / 10'\n",
    "\n",
    "    # Check if box office data exits\n",
    "    if len(us_box) == 0:\n",
    "        us_box = '$1'\n",
    "    if len(itl_box) == 0:\n",
    "        itl_box = '$1'\n",
    "    \n",
    "    # Check if International Box Office Data exists, if it doesn't replace the value with 'No Data'\n",
    "    if title == 'No Time to Die' and checker() == False:  # No Time to Die has to be put in manually as API doesn't have data yet\n",
    "        us_box = '$155,582,117'\n",
    "        itl_box = '$735,220,117'\n",
    "    us_box_float = floater(us_box)\n",
    "    itl_box_float =  floater(itl_box)\n",
    "    if abs((us_box_float - itl_box_float) / us_box_float) <= 0.01:\n",
    "        itl_box = \"No Data\"\n",
    "\n",
    "    # Put variables into main data frame\n",
    "    new_row = {'Title': title, 'Year': year, 'Actor': actor, 'US Box Office': us_box, \"International Revenue\": itl_box, 'IMDb Rating': rating, 'Metacritic': critic}\n",
    "    return new_row\n",
    "     "
   ]
  },
  {
   "cell_type": "code",
   "execution_count": null,
   "metadata": {},
   "outputs": [],
   "source": [
    "# Create a function that converts $ strings into floats\n",
    "def floater(input_str):\n",
    "    floater = input_str.strip('$')\n",
    "    floater = floater.replace(',','')\n",
    "    floater = floater.replace(' (est.)', '')\n",
    "    floater = float(floater)\n",
    "    return floater"
   ]
  },
  {
   "cell_type": "code",
   "execution_count": null,
   "metadata": {},
   "outputs": [],
   "source": [
    "# Create a function that turns an IMDb rating string into a float\n",
    "def replace_rating(input_str):\n",
    "    ret_value = input_str.replace(' / 10', '')\n",
    "    ret_value = ret_value.replace(' (est.)', '')\n",
    "    ret_value = float(ret_value)\n",
    "    ret_value = ret_value * 10\n",
    "    return ret_value"
   ]
  },
  {
   "cell_type": "code",
   "execution_count": null,
   "metadata": {},
   "outputs": [],
   "source": [
    "# Create a function that turns a Metacritic score into a float\n",
    "def replace_critic(input_str):\n",
    "    ret_value = input_str.replace('%', '')\n",
    "    ret_value = float(ret_value)\n",
    "    return ret_value"
   ]
  },
  {
   "cell_type": "code",
   "execution_count": null,
   "metadata": {},
   "outputs": [],
   "source": [
    "# function to test if 'No Time to Die' has data yet\n",
    "def checker():\n",
    "    movie_title = 'no time to die'\n",
    "\n",
    "    # Set initial API string for IMDB\n",
    "    api_key = \"k_nh5thpq8\"\n",
    "    base_url = \"https://imdb-api.com/en/API/SearchMovie/\"\n",
    "    complete_url = base_url + api_key + \"/\" + movie_title\n",
    "\n",
    "    # Get the title ID\n",
    "    payload = requests.get(complete_url).json()\n",
    "    df_temp = pd.json_normalize(payload['results'])\n",
    "    id_num = df_temp.id.iloc[0]\n",
    "\n",
    "    # use the id number to get the required info\n",
    "    base_url = \"https://imdb-api.com/en/API/Title/\"\n",
    "    complete_url = base_url + api_key + \"/\" + id_num \n",
    "    payload = requests.get(complete_url).json()\n",
    "    df_temp = pd.json_normalize(payload)\n",
    "\n",
    "    # Extract relevant data and put it into variables\n",
    "    us_box = df_temp['boxOffice.grossUSA'].iloc[0]\n",
    "    \n",
    "    # Return the boolean result of the checker()\n",
    "    if us_box != '':\n",
    "        return True\n",
    "    else: \n",
    "        return False"
   ]
  },
  {
   "cell_type": "code",
   "execution_count": null,
   "metadata": {},
   "outputs": [],
   "source": [
    "# Create the list of movies to collect data on\n",
    "movie_list = \\\n",
    "['dr no',\n",
    "'from russia with love',\n",
    "'goldfinger',\n",
    "'thunderball', \n",
    "'you only live twice',\n",
    "'on her majestys secret service',\n",
    "'diamonds are forever',\n",
    "'live and let die',\n",
    "'the man with the golden gun',\n",
    "'the spy who loved me',\n",
    "'moonraker',\n",
    "'for your eyes only',\n",
    "'octopussy',\n",
    "'view to a kill',\n",
    "'the living daylights',\n",
    "'licence to kill',\n",
    "'goldeneye',\n",
    "'tomorrow never dies',\n",
    "'the world is not enough',\n",
    "'die another day',\n",
    "'casino royale',\n",
    "'quantum of solace',\n",
    "'skyfall',\n",
    "'spectre',\n",
    "'no time to die']"
   ]
  },
  {
   "cell_type": "code",
   "execution_count": null,
   "metadata": {},
   "outputs": [],
   "source": [
    "# Run checker() to determine if No Time to Die is up to date in the API\n",
    "print(\"No Time to Die has up to date Box Office API data: \")\n",
    "print(checker())\n",
    "if checker() == True:\n",
    "    print(\"The movie's ticket sales will come from IMDb's API\")\n",
    "elif checker() == False:\n",
    "    print(\"The movie's Box Office data will be hard-coded in\")"
   ]
  },
  {
   "cell_type": "code",
   "execution_count": null,
   "metadata": {},
   "outputs": [],
   "source": [
    "# These commented out lines are use for debugging\n",
    "# movie_list = movie_list[20:25] \n",
    "# print(movie_list)\n",
    "\n",
    "\n",
    "# Iterate through the list and add results to data frame \n",
    "for movie_title in movie_list:\n",
    "    print('working on ' + movie_title)\n",
    "    time.sleep(0.5)  # Put into reduce hang up error on home PC\n",
    "    new_row = data(movie_title)\n",
    "    df = df.append(new_row, ignore_index=True)"
   ]
  },
  {
   "cell_type": "code",
   "execution_count": null,
   "metadata": {},
   "outputs": [],
   "source": [
    "# Calculate the Average change from Domestic to International Gross \n",
    "total = 0\n",
    "for index, row in df.iterrows():\n",
    "    if df['International Revenue'].values[index] != 'No Data':\n",
    "        usbo = floater(str(df['US Box Office'].values[index]))\n",
    "        itlbo = floater(str(df['International Revenue'].values[index]))\n",
    "        total = total + (itlbo/usbo)\n",
    "counter = df['International Revenue'].str.contains(\"No Data\").value_counts()[0]\n",
    "change = total/counter\n",
    "\n",
    "# Apply the average change by multiplying US Box Office by 'change' variable to replace 'No Data'\n",
    "for index, row in df.iterrows():\n",
    "    if df['International Revenue'].values[index] == 'No Data':\n",
    "        usbo = floater(str(df['US Box Office'].values[index]))\n",
    "        itlbo = usbo*change\n",
    "        itlbo = \"${:,.0f} (est.)\".format(itlbo)\n",
    "        df['International Revenue'][index] = itlbo"
   ]
  },
  {
   "cell_type": "code",
   "execution_count": null,
   "metadata": {},
   "outputs": [],
   "source": [
    "# Scrape inflation data from the internet\n",
    "page = requests.get('https://www.minneapolisfed.org/about-us/monetary-policy/inflation-calculator/consumer-price-index-1913-')\n",
    "soup = BeautifulSoup(page.content, 'html.parser')\n",
    "data = soup.find('tbody')\n",
    "tables = data.find_all('td')\n",
    "info_list = []\n",
    "for elem in tables:\n",
    "    info = elem.findChildren()[0].contents[0]\n",
    "    info_list.append(info)\n",
    "\n",
    "# Put the data into lists and combine the lists into a dictionary\n",
    "year = []\n",
    "cpi = []\n",
    "for value in info_list[::3]:\n",
    "    value = value.replace('*', '')\n",
    "    value = value.replace(u'\\xa0', '')\n",
    "    year.append(value)\n",
    "for value in info_list[1::3]:\n",
    "    cpi.append(value)\n",
    "zip_iterator = zip(year, cpi)\n",
    "inf_dict = dict(zip_iterator)"
   ]
  },
  {
   "cell_type": "code",
   "execution_count": null,
   "metadata": {},
   "outputs": [],
   "source": [
    "# Calculate inflation for each movie and place it into a new column 'Adjusted Revenue'\n",
    "curr_cpi = floater(inf_dict.get('2021'))\n",
    "for index, row in df.iterrows():\n",
    "    key = df['Year'].values[index]\n",
    "    old_cpi = floater(inf_dict.get(key))\n",
    "    base = floater(df['International Revenue'].values[index])\n",
    "    adjusted = base * (curr_cpi/old_cpi)\n",
    "    adjusted = \"${:,.0f}\".format(adjusted)\n",
    "    df['Adjusted Revenue'][index] = adjusted"
   ]
  },
  {
   "cell_type": "code",
   "execution_count": null,
   "metadata": {},
   "outputs": [],
   "source": [
    "# Calculate the average of IMDb and Metacritic ratings and put it into new column Average Rating\n",
    "for index, row in df.iterrows():\n",
    "    rate = replace_rating(df['IMDb Rating'].values[index])\n",
    "    crit = replace_critic(df['Metacritic'].values[index])\n",
    "    average = (rate + crit)/2\n",
    "    average = str(average) + '%'\n",
    "    df['Average Rating'][index] = average"
   ]
  },
  {
   "cell_type": "code",
   "execution_count": null,
   "metadata": {},
   "outputs": [],
   "source": [
    "# Replace Null values with string 'No Data'\n",
    "for index, row in df.iterrows():\n",
    "    if df['US Box Office'][index] == '$1':\n",
    "        df['US Box Office'][index] = 'No Data'\n",
    "    if df['International Revenue'][index] == '$0 (est.)':\n",
    "        df['International Revenue'][index] = 'No Data'\n",
    "    if df['International Revenue'][index] == '$62 (est.)':\n",
    "        df['International Revenue'][index] = 'No Data'\n",
    "    if df['Adjusted Revenue'][index] == '$0':\n",
    "        df['Adjusted Revenue'][index] = 'No Data'\n",
    "    if df['Adjusted Revenue'][index] == '$62':\n",
    "        df['Adjusted Revenue'][index] = 'No Data'\n",
    "df"
   ]
  },
  {
   "cell_type": "code",
   "execution_count": null,
   "metadata": {},
   "outputs": [],
   "source": [
    "# Write the data frame to a csv file\n",
    "f = open('data/007_data.csv', 'w', newline='')  # Name csv file here\n",
    "writer = csv.writer(f)\n",
    "writer.writerow(['Project 007 CSV', 'By: Andy Snitgen', 'For: Karen Jin', 'Class: comp574', 'Date: Oct. 31, 2021'])\n",
    "writer.writerow(['Title', 'Year', 'Actor', 'US Box Office', 'International Revenue', 'Adjusted Revenue', 'Average Rating', 'IMDb Rating', 'Metacritic']) \n",
    "for index, row in df.iterrows():\n",
    "    title = df.Title[index]\n",
    "    year = df.Year[index]\n",
    "    actor = df.Actor[index]\n",
    "    us_box_office = df['US Box Office'][index]\n",
    "    international_revenue = df['International Revenue'][index]\n",
    "    adjusted_revenue = df['Adjusted Revenue'][index]\n",
    "    average_rating = df['Average Rating'][index]\n",
    "    imdb_rating = df['IMDb Rating'][index]\n",
    "    metacritic = df['Metacritic'][index]\n",
    "    writer.writerow([title, year, actor, us_box_office, international_revenue, adjusted_revenue, average_rating, imdb_rating, metacritic])\n",
    "f.close()"
   ]
  }
 ],
 "metadata": {
  "interpreter": {
   "hash": "f7a0e8ff693c42c32d13963f7703adc445ab5b1d1f3221a168d89ca51b0c4118"
  },
  "kernelspec": {
   "display_name": "Python 3.9.2 64-bit",
   "name": "python3"
  },
  "language_info": {
   "codemirror_mode": {
    "name": "ipython",
    "version": 3
   },
   "file_extension": ".py",
   "mimetype": "text/x-python",
   "name": "python",
   "nbconvert_exporter": "python",
   "pygments_lexer": "ipython3",
   "version": "3.9.2"
  },
  "orig_nbformat": 4
 },
 "nbformat": 4,
 "nbformat_minor": 2
}
