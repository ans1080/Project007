{
 "cells": [
  {
   "cell_type": "markdown",
   "metadata": {},
   "source": [
    "Andy Snitgen  \n",
    "Professor Karen Jin  \n",
    "Comp 574 - Applied Computing II  \n",
    "November 24, 2021  "
   ]
  },
  {
   "cell_type": "markdown",
   "metadata": {},
   "source": [
    "## Milestone II - Analysis\n",
    "```\n",
    "This program will analyze the csv files created by Milestone I file\n",
    "Input: .csv file containing API data collected in Milestone I \n",
    "Output: f'strings and plots showcasing the analyzed data\n",
    "```\n",
    "* The input file goes in the seventh line\n",
    "    * The syntax is: df = pd.read_csv('data/**filename_here**.csv, skiprows=1)`"
   ]
  },
  {
   "cell_type": "markdown",
   "metadata": {},
   "source": [
    "#### Import, read and create\n",
    "```\n",
    "This code block imports necessary libraries, reads the csv and displays the dataframe\n",
    "Input: csv, the file contianing movie data from Milestone I\n",
    "Ouput: df, the dataframe created from the csv\n",
    "```\n",
    "* Uses Libraries: Pandas, math, matplotlib, numpy"
   ]
  },
  {
   "cell_type": "code",
   "execution_count": 62,
   "metadata": {},
   "outputs": [
    {
     "data": {
      "text/html": [
       "<div>\n",
       "<style scoped>\n",
       "    .dataframe tbody tr th:only-of-type {\n",
       "        vertical-align: middle;\n",
       "    }\n",
       "\n",
       "    .dataframe tbody tr th {\n",
       "        vertical-align: top;\n",
       "    }\n",
       "\n",
       "    .dataframe thead th {\n",
       "        text-align: right;\n",
       "    }\n",
       "</style>\n",
       "<table border=\"1\" class=\"dataframe\">\n",
       "  <thead>\n",
       "    <tr style=\"text-align: right;\">\n",
       "      <th></th>\n",
       "      <th>Title</th>\n",
       "      <th>Year</th>\n",
       "      <th>Actor</th>\n",
       "      <th>US Box Office</th>\n",
       "      <th>International Revenue</th>\n",
       "      <th>Adjusted Revenue</th>\n",
       "      <th>Average Rating</th>\n",
       "      <th>IMDb Rating</th>\n",
       "      <th>Metacritic</th>\n",
       "    </tr>\n",
       "  </thead>\n",
       "  <tbody>\n",
       "    <tr>\n",
       "      <th>0</th>\n",
       "      <td>Star Wars: Episode I - The Phantom Menace</td>\n",
       "      <td>1999</td>\n",
       "      <td>Ewan McGregor</td>\n",
       "      <td>$474,544,677</td>\n",
       "      <td>$1,027,082,707</td>\n",
       "      <td>$1,673,170,748</td>\n",
       "      <td>58.0%</td>\n",
       "      <td>6.5 / 10</td>\n",
       "      <td>51%</td>\n",
       "    </tr>\n",
       "    <tr>\n",
       "      <th>1</th>\n",
       "      <td>Star Wars: Episode II - Attack of the Clones</td>\n",
       "      <td>2002</td>\n",
       "      <td>Hayden Christensen</td>\n",
       "      <td>$310,676,740</td>\n",
       "      <td>$653,779,970</td>\n",
       "      <td>$986,302,856</td>\n",
       "      <td>59.5%</td>\n",
       "      <td>6.5 / 10</td>\n",
       "      <td>54%</td>\n",
       "    </tr>\n",
       "    <tr>\n",
       "      <th>2</th>\n",
       "      <td>Star Wars: Episode III - Revenge of the Sith</td>\n",
       "      <td>2005</td>\n",
       "      <td>Hayden Christensen</td>\n",
       "      <td>$380,270,577</td>\n",
       "      <td>$868,390,560</td>\n",
       "      <td>$1,206,764,967</td>\n",
       "      <td>71.5%</td>\n",
       "      <td>7.5 / 10</td>\n",
       "      <td>68%</td>\n",
       "    </tr>\n",
       "    <tr>\n",
       "      <th>3</th>\n",
       "      <td>Star Wars: Episode IV - A New Hope</td>\n",
       "      <td>1977</td>\n",
       "      <td>Mark Hamill</td>\n",
       "      <td>$460,998,507</td>\n",
       "      <td>$775,398,007</td>\n",
       "      <td>$3,472,657,081</td>\n",
       "      <td>88.0%</td>\n",
       "      <td>8.6 / 10</td>\n",
       "      <td>90%</td>\n",
       "    </tr>\n",
       "    <tr>\n",
       "      <th>4</th>\n",
       "      <td>Star Wars: Episode V - The Empire Strikes Back</td>\n",
       "      <td>1980</td>\n",
       "      <td>Mark Hamill</td>\n",
       "      <td>$292,753,960</td>\n",
       "      <td>$538,375,067</td>\n",
       "      <td>$1,773,240,209</td>\n",
       "      <td>84.5%</td>\n",
       "      <td>8.7 / 10</td>\n",
       "      <td>82%</td>\n",
       "    </tr>\n",
       "    <tr>\n",
       "      <th>5</th>\n",
       "      <td>Star Wars: Episode VI - Return of the Jedi</td>\n",
       "      <td>1983</td>\n",
       "      <td>Mark Hamill</td>\n",
       "      <td>$309,306,177</td>\n",
       "      <td>$475,106,177</td>\n",
       "      <td>$1,294,616,631</td>\n",
       "      <td>70.5%</td>\n",
       "      <td>8.3 / 10</td>\n",
       "      <td>58%</td>\n",
       "    </tr>\n",
       "    <tr>\n",
       "      <th>6</th>\n",
       "      <td>Star Wars: Episode VII - The Force Awakens</td>\n",
       "      <td>2015</td>\n",
       "      <td>Daisy Ridley</td>\n",
       "      <td>$936,662,225</td>\n",
       "      <td>$2,068,455,677</td>\n",
       "      <td>$2,368,687,218</td>\n",
       "      <td>79.5%</td>\n",
       "      <td>7.9 / 10</td>\n",
       "      <td>80%</td>\n",
       "    </tr>\n",
       "    <tr>\n",
       "      <th>7</th>\n",
       "      <td>Star Wars: Episode VIII - The Last Jedi</td>\n",
       "      <td>2017</td>\n",
       "      <td>Daisy Ridley</td>\n",
       "      <td>$620,181,382</td>\n",
       "      <td>$1,332,698,830</td>\n",
       "      <td>$1,475,701,601</td>\n",
       "      <td>77.0%</td>\n",
       "      <td>7.0 / 10</td>\n",
       "      <td>84%</td>\n",
       "    </tr>\n",
       "    <tr>\n",
       "      <th>8</th>\n",
       "      <td>Star Wars: Episode IX - The Rise of Skywalker</td>\n",
       "      <td>2019</td>\n",
       "      <td>Daisy Ridley</td>\n",
       "      <td>$515,202,542</td>\n",
       "      <td>$1,074,144,248</td>\n",
       "      <td>$1,140,096,789</td>\n",
       "      <td>59.5%</td>\n",
       "      <td>6.6 / 10</td>\n",
       "      <td>53%</td>\n",
       "    </tr>\n",
       "    <tr>\n",
       "      <th>9</th>\n",
       "      <td>Rogue One: A Star Wars Story</td>\n",
       "      <td>2016</td>\n",
       "      <td>Felicity Jones</td>\n",
       "      <td>$532,177,324</td>\n",
       "      <td>$1,056,057,720</td>\n",
       "      <td>$1,194,225,272</td>\n",
       "      <td>71.5%</td>\n",
       "      <td>7.8 / 10</td>\n",
       "      <td>65%</td>\n",
       "    </tr>\n",
       "    <tr>\n",
       "      <th>10</th>\n",
       "      <td>Solo: A Star Wars Story</td>\n",
       "      <td>2018</td>\n",
       "      <td>Alden Ehrenreich</td>\n",
       "      <td>$213,767,512</td>\n",
       "      <td>$392,924,807</td>\n",
       "      <td>$424,690,532</td>\n",
       "      <td>65.5%</td>\n",
       "      <td>6.9 / 10</td>\n",
       "      <td>62%</td>\n",
       "    </tr>\n",
       "  </tbody>\n",
       "</table>\n",
       "</div>"
      ],
      "text/plain": [
       "                                             Title  Year               Actor  \\\n",
       "0        Star Wars: Episode I - The Phantom Menace  1999       Ewan McGregor   \n",
       "1     Star Wars: Episode II - Attack of the Clones  2002  Hayden Christensen   \n",
       "2     Star Wars: Episode III - Revenge of the Sith  2005  Hayden Christensen   \n",
       "3               Star Wars: Episode IV - A New Hope  1977         Mark Hamill   \n",
       "4   Star Wars: Episode V - The Empire Strikes Back  1980         Mark Hamill   \n",
       "5       Star Wars: Episode VI - Return of the Jedi  1983         Mark Hamill   \n",
       "6       Star Wars: Episode VII - The Force Awakens  2015        Daisy Ridley   \n",
       "7          Star Wars: Episode VIII - The Last Jedi  2017        Daisy Ridley   \n",
       "8    Star Wars: Episode IX - The Rise of Skywalker  2019        Daisy Ridley   \n",
       "9                     Rogue One: A Star Wars Story  2016      Felicity Jones   \n",
       "10                         Solo: A Star Wars Story  2018    Alden Ehrenreich   \n",
       "\n",
       "   US Box Office International Revenue Adjusted Revenue Average Rating  \\\n",
       "0   $474,544,677        $1,027,082,707   $1,673,170,748          58.0%   \n",
       "1   $310,676,740          $653,779,970     $986,302,856          59.5%   \n",
       "2   $380,270,577          $868,390,560   $1,206,764,967          71.5%   \n",
       "3   $460,998,507          $775,398,007   $3,472,657,081          88.0%   \n",
       "4   $292,753,960          $538,375,067   $1,773,240,209          84.5%   \n",
       "5   $309,306,177          $475,106,177   $1,294,616,631          70.5%   \n",
       "6   $936,662,225        $2,068,455,677   $2,368,687,218          79.5%   \n",
       "7   $620,181,382        $1,332,698,830   $1,475,701,601          77.0%   \n",
       "8   $515,202,542        $1,074,144,248   $1,140,096,789          59.5%   \n",
       "9   $532,177,324        $1,056,057,720   $1,194,225,272          71.5%   \n",
       "10  $213,767,512          $392,924,807     $424,690,532          65.5%   \n",
       "\n",
       "   IMDb Rating Metacritic  \n",
       "0     6.5 / 10        51%  \n",
       "1     6.5 / 10        54%  \n",
       "2     7.5 / 10        68%  \n",
       "3     8.6 / 10        90%  \n",
       "4     8.7 / 10        82%  \n",
       "5     8.3 / 10        58%  \n",
       "6     7.9 / 10        80%  \n",
       "7     7.0 / 10        84%  \n",
       "8     6.6 / 10        53%  \n",
       "9     7.8 / 10        65%  \n",
       "10    6.9 / 10        62%  "
      ]
     },
     "execution_count": 62,
     "metadata": {},
     "output_type": "execute_result"
    }
   ],
   "source": [
    "import pandas as pd\n",
    "import math\n",
    "import matplotlib.pyplot as plt\n",
    "import numpy as np\n",
    "\n",
    "# Create the dataframe\n",
    "df = pd.read_csv('data/StarWars_data.csv', skiprows=1)  # Change file to read in here\n",
    "df"
   ]
  },
  {
   "cell_type": "markdown",
   "metadata": {},
   "source": [
    "#### Adjust the dataframe to suit mathematical work\n",
    "```\n",
    "This code block changes in values applicable columns from strings to floats\n",
    "Input: df, the unedited dataframe from the csv\n",
    "Output: df, now updated for math, but harder for humans to read \n",
    "```\n",
    "* The affect columns are: 'International Revenue', 'Adjusted Revenue', 'Average Rating'"
   ]
  },
  {
   "cell_type": "code",
   "execution_count": 63,
   "metadata": {},
   "outputs": [],
   "source": [
    "# Turn 'International Revenue', 'Adjusted Revenue', and 'Average Rating' values from strings into floats for mathematics\n",
    "df['International Revenue'] = df['International Revenue'].apply(lambda x: 1 if x == 'No Data' else float(x.replace(',', '').replace('$', '').replace(' (est.)', '')))\n",
    "df['Adjusted Revenue'] = df['Adjusted Revenue'].apply(lambda x:  1 if x == 'No Data'  else float(x.replace(',', '').replace('$','')))\n",
    "df['Average Rating'] = df['Average Rating'].apply(lambda x: float(x.replace('%', '')))\n",
    "\n"
   ]
  },
  {
   "cell_type": "markdown",
   "metadata": {},
   "source": [
    "### Question: How much money does each film in the franchise make on average?\n",
    "```\n",
    "Uses built in functions mean and median to determine relevant information\n",
    "```\n",
    "* In addition, format functions are also used to convert floats to strings\n",
    "\n",
    "<p> We will begin our analysis by checking to see how much an entry into the franchise makes on average.  This is the mean value, and has been calculated for both the nominal revenue and the same amount adjusted for inflation.  This is done to allow for a more accurate comparison with long running or older franchises where inflation can be a significant factor. The median, or middle value of the data set, has also been included.  This is because valuable information can be gleaned from the comparison of the two numbers.  If the mean and median are close it indicates that the franchise produces a consistent amount of money per entry.  However, if there is a large difference between the two it is indictive of a series with a greater variance.  Essentially, it is a franchise with some mega-hits or equally big flops. </p>"
   ]
  },
  {
   "cell_type": "code",
   "execution_count": 64,
   "metadata": {},
   "outputs": [
    {
     "name": "stdout",
     "output_type": "stream",
     "text": [
      "The International Revenue has:\n",
      "        A Mean of: $932,946,706\n",
      "        A Median of: $868,390,560\n",
      "        A Sum of: $10,262,413,770\n",
      "The Adjusted Revenue has:\n",
      "        A Mean of: $1,546,377,628\n",
      "        A Median of: $1,294,616,631\n",
      "        A Sum of: $17,010,153,904\n"
     ]
    }
   ],
   "source": [
    "# Calculate the Mean and Median for 'International Revenue' and 'Adjusted Revenue'\n",
    "columns = ['International Revenue', 'Adjusted Revenue']\n",
    "for column in columns:    \n",
    "    # Calculate the Mean, Median and Sum\n",
    "    mean = df[column].mean()\n",
    "    mean = \"${:,.0f}\".format(mean)\n",
    "    median = df[column].median()\n",
    "    median = \"${:,.0f}\".format(median)\n",
    "    total = df[column].sum()\n",
    "    total = \"${:,.0f}\".format(total)\n",
    "    \n",
    "    # Print the Results\n",
    "    print(f'The {column} has:')\n",
    "    print(f'        A Mean of: {mean}')\n",
    "    print(f'        A Median of: {median}')\n",
    "    print(f'        A Sum of: {total}')\n"
   ]
  },
  {
   "cell_type": "markdown",
   "metadata": {},
   "source": [
    "### Question: What are the statistics associated with film quality?\n",
    "```\n",
    "Uses built in mean, median, and mode functions to determine standard deviation of the 'Average Rating' column\n",
    "```\n",
    "* Adds and then deletes new column 'Calculations'\n",
    "    * This column's values are equal to the variance associated with each film's average rating\n",
    "* The math.sqrt() function is used to change variance to standard deviation\n",
    "<p> Now that we have a brief overview of the financial data from the franchise, we will take a closer examination of its average rating.  This column is the average of the IMDB user ratings an the Metacritic aggregate review score.  It should provide an insightful look at the overall quality of the franchise from both a critical and audience perspective.  The mean provides an average rating for all films in the series.  The median represents the middle of the data set, and the mode is the most common score.  The standard deviation is the average change from the mean.  A low standard deviation denotes a series of consistent quality.  In contrast, a high standard deviation results in a series with more variance; a franchise with many highs and lows. </p>"
   ]
  },
  {
   "cell_type": "code",
   "execution_count": 65,
   "metadata": {},
   "outputs": [
    {
     "name": "stdout",
     "output_type": "stream",
     "text": [
      "The Average Rating has:\n",
      "        A Mean of: 71.36%\n",
      "        A Median of: 72%\n",
      "        A Mode of: 60%\n",
      "        A Standard Deviation of: 9.74%\n"
     ]
    }
   ],
   "source": [
    "# Calculate the Mean, Median, and Mode of 'Average Rating'\n",
    "column = 'Average Rating'\n",
    "mean = df[column].mean()\n",
    "median = df[column].median()\n",
    "median = \"{:,.0f}%\".format(median)\n",
    "mode = df[column].mode().iloc[0]\n",
    "mode = \"{:,.0f}%\".format(mode)\n",
    "\n",
    "# Calculate the Standard Deviation of 'Average Rating' \n",
    "df['Calculations'] = df['Average Rating'].apply(lambda x: (x - mean)*(x - mean))\n",
    "total = df['Calculations'].sum()\n",
    "variance = total / len(df)\n",
    "standard_deviation = math.sqrt(variance)\n",
    "\n",
    "# Format the results\n",
    "df = df.drop('Calculations', axis=1)\n",
    "mean = \"{:,.2f}%\".format(mean)\n",
    "standard_deviation = \"{:,.2f}%\".format(standard_deviation)\n",
    "\n",
    "# Print the Results\n",
    "print(f'The {column} has:')\n",
    "print(f'        A Mean of: {mean}')\n",
    "print(f'        A Median of: {median}')\n",
    "print(f'        A Mode of: {mode}')\n",
    "print(f'        A Standard Deviation of: {standard_deviation}')"
   ]
  },
  {
   "cell_type": "markdown",
   "metadata": {},
   "source": [
    "### Question: How has the quality of the franchise changed over time?\n",
    "```\n",
    "Uses numpy to calculate a trendline from the 'Average Rating' column and matplotlib.pyplot to display the graph\n",
    "```\n",
    "* numpy.polyfit() is used to create a list containing the [m , b] values in a trendline with equation y = mx + b\n",
    "    * The third input argument is the order of the system; ie. a 2 value would have a squared x exponential\n",
    "* numpy.poly1d() uses the polyfit list to create an equation and plot the trendline\n",
    "* The if statements use the slope of the line (z[0]) to test against percent change\n",
    "\n",
    "<p>While statistics about the quality of a franchise can be fascinating, one important aspect they neglect is how time has affected the series.  It is important to determine what direction a franchise is heading in.  To do this, we will graph a scatter plot of the average rating of each film against the year the film released.  We will then create a trendline from the plot to show how the quality has evolved over the course of the series.  If the average rating has changed less than 10% (+/- 5%), we will declare that the franchise has maintained a consistent quality.  However, if the quality has increased or decreased outside of that range, we will designate that the franchise has had a corresponding change in quality.</p> "
   ]
  },
  {
   "cell_type": "code",
   "execution_count": 66,
   "metadata": {},
   "outputs": [
    {
     "name": "stdout",
     "output_type": "stream",
     "text": [
      "The franchise has seen review scores decline over time\n"
     ]
    },
    {
     "data": {
      "image/png": "[encoded data removed]",
      "text/plain": [
       "<Figure size 432x288 with 1 Axes>"
      ]
     },
     "metadata": {
      "needs_background": "light"
     },
     "output_type": "display_data"
    }
   ],
   "source": [
    "# Create the Plot\n",
    "x = df['Year'].tolist()\n",
    "y = df['Average Rating'].tolist()\n",
    "plt.scatter(x, y)\n",
    "\n",
    "# Create the Trendline\n",
    "z = np.polyfit(x, y, 1)  # Gets values for trendline equation \n",
    "p = np.poly1d(z)  # Creates the trendline equation\n",
    "plt.plot(x,p(x), color = 'red')\n",
    "\n",
    "# Display the results\n",
    "if z[0] > 0.05:\n",
    "    print('The franchines has seen review scores improve over time')\n",
    "elif z[0] < -0.05:\n",
    "    print('The franchise has seen review scores decline over time')\n",
    "else:\n",
    "    print('The franchise has maintained a consistent quality over time')\n",
    "plt.show()"
   ]
  },
  {
   "cell_type": "markdown",
   "metadata": {},
   "source": [
    "### Question: Who is the most common lead actor?\n",
    "```\n",
    "Uses built in mode function to determine who the most common lead actor is\n",
    "```\n",
    "* The outer loop is used in the event that multiple actors have led the same number of films\n",
    "    * In this event mode is returned as an indexed list saved as variable 'range'\n",
    "* A Nested loop that iterates through entire dataframe is used\n",
    "    * It contains a series of if statements that find years \n",
    "\n",
    "<p>Our examination doesn't have to focus on the franchise as a whole.  It many franchises, the lead actor can set the tone of the series throughout their tenure.  Knowing who starred in the most films is a valuable piece of information easily calculated with the mode function.  However, cases where multiple stars have made the same number of films, and thus have the same mode, must be accounted for.  This is a accomplished by saving their names to a list and then iterating through the list.  This allows the program to calculate the range of release years independtly for each actor.  It is useful because it provides a glimpse into the face of the franchise and the time they were at the helm.  </p>"
   ]
  },
  {
   "cell_type": "code",
   "execution_count": 67,
   "metadata": {},
   "outputs": [
    {
     "name": "stdout",
     "output_type": "stream",
     "text": [
      "The most common lead actor is: Daisy Ridley\n",
      "Who made 3 films from 2015 to 2019\n",
      "The most common lead actor is: Mark Hamill\n",
      "Who made 3 films from 1977 to 1983\n"
     ]
    }
   ],
   "source": [
    "# Calculate the mode of 'Actor' to satisfy qualitative requirement\n",
    "range = df['Actor'].mode()\n",
    "\n",
    "for actor in range:\n",
    "    # Calculate the secondary data\n",
    "    size = len(df.loc[df['Actor'] == actor])\n",
    "    first = 99999\n",
    "    last = 0\n",
    "    for index, row in df.iterrows():\n",
    "        if df.Actor[index] == actor:\n",
    "            if df.Year[index] < first:\n",
    "                first = df.Year[index]\n",
    "            if df.Year[index] > last:\n",
    "                last = df.Year[index]\n",
    "\n",
    "    # Print the results\n",
    "    print(f'The most common lead actor is: {actor}')\n",
    "    print(f'Who made {size} films from {first} to {last}')\n",
    "\n",
    "# Save the conclusion data\n",
    "final_mode = range"
   ]
  },
  {
   "cell_type": "markdown",
   "metadata": {},
   "source": [
    "### Question: Who is the best lead actor?\n",
    "```\n",
    "Uses groupby and the mean function to find the actor with best average rating\n",
    "```\n",
    "* The groupby function associates each actor with the average rating of their films\n",
    "* By iterating through that groupby, we can determine which actor has the highest rating\n",
    "* We can use the same algorithm as before to determine the size and release years\n",
    "\n",
    "<p> Of course, the most common actor is not always the best.  Franchises are often remembered for their highs, irregardless of the their lows.  To determine the best lead actor of a series, we will look at the average rating column comprised of the combination of IMDB user scores and Metacritic ratings.  USings a pandas groupby function we will organize the dataframe by lead actor.  At this point, a bar graph provides a useful comparison between the lead roles.  Since the groupby function returns a panda series that operates like a dictionary, it is trivial to iterate through the keys and find the one associated with the highest average rating.  We finish off our examination of the best actor by looking at the number of films they made and the range of dates they released in.  This period can often be considered the creative peak of the franchise. </p>"
   ]
  },
  {
   "cell_type": "code",
   "execution_count": 68,
   "metadata": {},
   "outputs": [
    {
     "name": "stdout",
     "output_type": "stream",
     "text": [
      "The highest rated lead actor is Mark Hamill, with an average rating of 81.0% per film\n",
      "Who made 3 films from 1977 to 1983\n"
     ]
    },
    {
     "data": {
      "image/png": "[encoded data removed]",
      "text/plain": [
       "<Figure size 432x288 with 1 Axes>"
      ]
     },
     "metadata": {
      "needs_background": "light"
     },
     "output_type": "display_data"
    }
   ],
   "source": [
    "# Determine the best actor\n",
    "# Graph the data\n",
    "ActorRatings = df.groupby('Actor')['Average Rating'].mean()\n",
    "ActorRatings.plot.bar(color=['green', 'blue', 'red', 'orange', 'purple', 'brown'], ylabel='Average Rating', title='Average Rating by Lead Actor')\n",
    "\n",
    "# Find the primary data\n",
    "highest = 0\n",
    "for actor in ActorRatings.keys():\n",
    "    if ActorRatings[actor] > highest:\n",
    "        highest = ActorRatings[actor]\n",
    "        top_actor = actor\n",
    "\n",
    "# Find the secondary data\n",
    "size = len(df.loc[df['Actor'] == top_actor])\n",
    "first = 99999\n",
    "last = 0\n",
    "for index, row in df.iterrows():\n",
    "    if df.Actor[index] == top_actor:\n",
    "        if df.Year[index] < first:\n",
    "            first = df.Year[index]\n",
    "        if df.Year[index] > last:\n",
    "            last = df.Year[index]\n",
    "\n",
    "# Print the Results\n",
    "print(f'The highest rated lead actor is {top_actor}, with an average rating of {highest}% per film')\n",
    "print(f'Who made {size} films from {first} to {last}')\n",
    "\n",
    "# Save conclusion data\n",
    "final_rated = top_actor"
   ]
  },
  {
   "cell_type": "markdown",
   "metadata": {},
   "source": [
    "### Question: Which actor made the most money?\n",
    "```\n",
    "Uses groupby and sum to find the total revenue each actor made\n",
    "```\n",
    "* The loop through the groupby actors is used to determine the highest earning lead\n",
    "* The secondary data is calculated with basic math operators\n",
    "* The floats are returned to strings to enhance clarity\n",
    "\n",
    "<p>An actors worth isn't determined just by their acclaim.  They must also make money.  A complete picture of a franchise must include the highest earnings.  The pie chart below displays each actor's percentage of the series's total revenue. Surprisingly, this is often does not correlate with either the best rated actor, nor the actor with highest number of films.  Instead, there is a trend towards higher earnings being associated with more recent actors.  This is because inflation has not been considered.  Despite this, it can still be an insightful analysis because studio desicions are not frequently based on a historical inflation adjusted statistics, but more recent profitable trends.  An unadjusted look at franchise revenue can useful in predicting the artistic direction a franchise may move into in the future. </p>  "
   ]
  },
  {
   "cell_type": "code",
   "execution_count": 69,
   "metadata": {},
   "outputs": [
    {
     "name": "stdout",
     "output_type": "stream",
     "text": [
      "The franchise has made: $10,262,413,770\n",
      "Daisy Ridley made the largest amount: $4,475,298,755\n",
      "With 3 of 11 films taking in 43.61% of the total revenue\n"
     ]
    },
    {
     "data": {
      "image/png": "[encoded data removed]",
      "text/plain": [
       "<Figure size 432x288 with 1 Axes>"
      ]
     },
     "metadata": {},
     "output_type": "display_data"
    }
   ],
   "source": [
    "# Find which actor made the most money \n",
    "#Create the graph using groupby\n",
    "ActorRevenue = df.groupby('Actor')['International Revenue'].sum()\n",
    "ActorRevenue.plot.pie(legend=True, title='Nominal Revenue').legend(loc='center left', bbox_to_anchor=(1.0, 0.5))\n",
    "\n",
    "# Find the relevant data\n",
    "highest = 0\n",
    "for actor in ActorRevenue.keys():\n",
    "    if ActorRevenue[actor] > highest:\n",
    "        highest = ActorRevenue[actor]\n",
    "        top_actor = actor\n",
    "total = df['International Revenue'].sum()\n",
    "size = len(df.loc[df['Actor'] == top_actor])\n",
    "percent = (highest / total) * 100\n",
    "\n",
    "# Format the data\n",
    "total = \"${:,.0f}\".format(total)\n",
    "highest = \"${:,.0f}\".format(highest)\n",
    "percent = \"{:,.2f}%\".format(percent)\n",
    "\n",
    "# Print the results\n",
    "print(f'The franchise has made: {total}')\n",
    "print(f'{top_actor} made the largest amount: {highest}')\n",
    "print(f'With {size} of {len(df)} films taking in {percent} of the total revenue')"
   ]
  },
  {
   "cell_type": "markdown",
   "metadata": {},
   "source": [
    "### Question: Which actor made the most money when adjusted for inflation?\n",
    "```\n",
    "Uses groupby and sum to find the adjusted revenue each actor made\n",
    "```\n",
    "* The 'bbox_to_anchor' arguement for the plot.pie figure sets the bounding box and takes postions (x, y)\n",
    "\n",
    "<p>However, there can be no denying the value in the inflation adjusted data.  Here a much stronger correlation can be revealed.  Links between commonality, acclaim and revenue become easy to see.  Adjusting the revenue for inflation paints a much more accurate picture about each lead actors financial data.  Lead actors no longer recieve a benefit simply for portraying their role more recently.  Another interesting comparison is the total revenue against the adjusted revenue.  For a long running or older series, the inflation amount can be significantly higher than the unadjusted amount. The effects of inflation are enourmous over a long time span and simply cannot be ignored. </p>      "
   ]
  },
  {
   "cell_type": "code",
   "execution_count": 70,
   "metadata": {},
   "outputs": [
    {
     "name": "stdout",
     "output_type": "stream",
     "text": [
      "The franchise has made: $17,010,153,904 (Inflation Adjusted)\n",
      "Mark Hamill made the largest amount: $6,540,513,921\n",
      "With 3 of 11 films taking in 38.45% of the adjusted revenue\n"
     ]
    },
    {
     "data": {
      "image/png": "[encoded data removed]",
      "text/plain": [
       "<Figure size 432x288 with 1 Axes>"
      ]
     },
     "metadata": {},
     "output_type": "display_data"
    }
   ],
   "source": [
    "# Find which actor made the most money (inflation adjusted)\n",
    "#Create the graph using groupby\n",
    "ActorAdjusted = df.groupby('Actor')['Adjusted Revenue'].sum()\n",
    "ActorAdjusted.plot.pie(legend=True, title='Inflation Adjusted').legend(loc='center left', bbox_to_anchor=(1.0, 0.5))\n",
    "\n",
    "# Find the relevant data\n",
    "highest = 0\n",
    "for actor in ActorAdjusted.keys():\n",
    "    if ActorAdjusted[actor] > highest:\n",
    "        highest = ActorAdjusted[actor]\n",
    "        top_actor = actor\n",
    "total = df['Adjusted Revenue'].sum()\n",
    "size = len(df.loc[df['Actor'] == top_actor])\n",
    "percent = (highest / total) * 100\n",
    "\n",
    "# Format the data\n",
    "total = \"${:,.0f}\".format(total)\n",
    "highest = \"${:,.0f}\".format(highest)\n",
    "percent = \"{:,.2f}%\".format(percent)\n",
    "\n",
    "\n",
    "\n",
    "# Print the results\n",
    "print(f'The franchise has made: {total} (Inflation Adjusted)')\n",
    "print(f'{top_actor} made the largest amount: {highest}')\n",
    "print(f'With {size} of {len(df)} films taking in {percent} of the adjusted revenue')\n",
    "\n",
    "# Save conclusion data\n",
    "final_rev = top_actor"
   ]
  },
  {
   "cell_type": "markdown",
   "metadata": {},
   "source": [
    "### Question: Which lead actor is the best overall?\n",
    "```\n",
    "Uses if statements to draw conclusions from previously obtained information\n",
    "```\n",
    "* The loop through 'final_mode' is to account for multiple actors with the same number of films\n",
    "* The 'winner' variable is a boolean set to true if there is a definitive winner\n",
    "* The conditionals in the if statements are to avoid repeats\n",
    "<p> A lead actor isn't just how much money they made, the number of films they led or even the critical acclaim they recieved.  The truth is all of those factors matter when conducting a through analysis of a film series.  We will determine the overall best lead actor of a franchise by seeing if any single actor has won a majority of the categories.  If one has, we will declare them the face of the franchise and the best actor to lead it.  However, in the event of a three-way tie, we will leave the desicion up to each individual reader, subjectively; as the data cannot conclusively decide for us.\n",
    "</p>"
   ]
  },
  {
   "cell_type": "code",
   "execution_count": 74,
   "metadata": {},
   "outputs": [
    {
     "name": "stdout",
     "output_type": "stream",
     "text": [
      "The lead actor who starred in the most films: Daisy Ridley\n",
      "The lead actor who starred in the most films: Mark Hamill\n",
      "The lead actor who scored the highest ratings: Mark Hamill\n",
      "The lead actor who earned the most adjusted revenue: Mark Hamill\n",
      "-------------------------------------------------------------------\n",
      "Mark Hamill is objectively the best actor\n"
     ]
    }
   ],
   "source": [
    "# Print the winners\n",
    "count = 0\n",
    "for actor in final_mode:\n",
    "    print(f'The lead actor who starred in the most films: {final_mode[count]}')\n",
    "    count = count + 1\n",
    "print(f'The lead actor who scored the highest ratings: {final_rated}')\n",
    "print(f'The lead actor who earned the most adjusted revenue: {final_rev}')\n",
    "\n",
    "# Analyze the winners to determine the best overall\n",
    "print('-------------------------------------------------------------------')\n",
    "winner = False\n",
    "count = 0\n",
    "for actor in final_mode:\n",
    "    if (final_mode[count] == final_rated) or (final_mode[count] == final_rev):\n",
    "        print(f'{final_mode[count]} is objectively the best lead actor')\n",
    "        winner = True\n",
    "    count = count + 1\n",
    "if final_rev == final_rated and winner == False:\n",
    "    print(f'{final_rev} is objectively the best lead actor')\n",
    "    winner = True\n",
    "if winner == False:\n",
    "    print(f'There is no objectively best lead actor, it is a subjective desicion')"
   ]
  }
 ],
 "metadata": {
  "interpreter": {
   "hash": "f7a0e8ff693c42c32d13963f7703adc445ab5b1d1f3221a168d89ca51b0c4118"
  },
  "kernelspec": {
   "display_name": "Python 3.9.2 64-bit",
   "language": "python",
   "name": "python3"
  },
  "language_info": {
   "codemirror_mode": {
    "name": "ipython",
    "version": 3
   },
   "file_extension": ".py",
   "mimetype": "text/x-python",
   "name": "python",
   "nbconvert_exporter": "python",
   "pygments_lexer": "ipython3",
   "version": "3.9.2"
  },
  "orig_nbformat": 4
 },
 "nbformat": 4,
 "nbformat_minor": 2
}
