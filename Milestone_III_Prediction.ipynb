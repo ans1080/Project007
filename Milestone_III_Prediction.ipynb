{
 "cells": [
  {
   "cell_type": "code",
   "execution_count": 1,
   "metadata": {},
   "outputs": [],
   "source": [
    "import pandas as pd\n",
    "import math\n",
    "import matplotlib.pyplot as plt\n",
    "import numpy as np\n",
    "pd.options.mode.chained_assignment = None  # Gets rid of the copy warning\n",
    "\n",
    "# Create the dataframe\n",
    "df = pd.read_csv('data/StarWars_data.csv', skiprows=1)  # Change file to read in here\n",
    "df_display = df.copy()\n"
   ]
  },
  {
   "cell_type": "markdown",
   "metadata": {},
   "source": [
    "### Data Cleaning and Feature Engineering"
   ]
  },
  {
   "cell_type": "code",
   "execution_count": 2,
   "metadata": {},
   "outputs": [],
   "source": [
    "# Turn all numeric columns from formatted strings into floats\n",
    "df['Adjusted Revenue'] = df['Adjusted Revenue'].apply(lambda x:  1 if x == 'No Data'  else float(x.replace(',', '').replace('$','')))\n",
    "df['US Box Office'] = df['US Box Office'].apply(lambda x: 1 if x == 'No Data'  else float(x.replace(',', '').replace('$','')))\n",
    "df['International Revenue'] = df['International Revenue'].apply(lambda x: 1 if x == 'No Data'  else float(x.replace(',', '').replace('$','').strip(' (est.)')))\n",
    "df['Average Rating'] = df['Average Rating'].apply(lambda x: float(x.replace('%', '')))\n",
    "df['Metacritic'] = df['Metacritic'].apply(lambda x: float(x.replace('%', '')))\n",
    "df['IMDb Rating'] = df['IMDb Rating'].apply(lambda x: float(x.replace(' / 10', '').replace(' (est.)', '')))\n",
    "df['IMDb Rating'] = df['IMDb Rating'].apply(lambda x: x*10)"
   ]
  },
  {
   "cell_type": "code",
   "execution_count": 3,
   "metadata": {},
   "outputs": [],
   "source": [
    "# Fill in 'No Data' entries with mean for column\n",
    "for index, row in df.iterrows():\n",
    "    if df['Adjusted Revenue'][index] == 1:\n",
    "        df['Adjusted Revenue'][index] = df['Adjusted Revenue'].mean()\n",
    "    if df['US Box Office'][index] == 1:\n",
    "        df['US Box Office'][index] = df['US Box Office'].mean()\n",
    "    if df['International Revenue'][index] == 1:\n",
    "        df['International Revenue'][index] = df['International Revenue'].mean()"
   ]
  },
  {
   "cell_type": "code",
   "execution_count": 4,
   "metadata": {},
   "outputs": [],
   "source": [
    "# Use qcut() to put adjusted revenue and Average Rating into 3 groups \n",
    "df['Revenue Category'] = pd.qcut(df['Adjusted Revenue'], q=3, labels=False)\n",
    "df['Rating Category'] = pd.qcut(df['Average Rating'], q=3, labels=False)\n",
    "\n",
    "# Add Changes to df_display (the formatted for viewing dataframe)\n",
    "df_display[[ 'Revenue Category', 'Rating Category']] = df[['Revenue Category', 'Rating Category']]\n",
    "\n",
    "# Change qcut numbers to qualatative categories in df_display\n",
    "bin = {\n",
    "    0: 'Low',\n",
    "    1: 'Average',\n",
    "    2: 'High'\n",
    "}\n",
    "df_display['Rating Category'] = df_display['Rating Category'].map(bin)  # Both map() and apply() do the same thing with different syntax\n",
    "df_display['Revenue Category'] = df_display['Revenue Category'].apply(lambda x: 'Low' if x == 0 else ('Average' if x == 1 else 'High'))"
   ]
  },
  {
   "cell_type": "markdown",
   "metadata": {},
   "source": [
    "### New Column Explanation\n",
    "* Revenue Category classifes a movies earnings as high, average or low\n",
    "* Rating Categoy classifies movie ratings as high, average or low\n",
    "* These new columns will be predicted to test accuracy"
   ]
  },
  {
   "cell_type": "code",
   "execution_count": 5,
   "metadata": {},
   "outputs": [
    {
     "data": {
      "text/html": [
       "<div>\n",
       "<style scoped>\n",
       "    .dataframe tbody tr th:only-of-type {\n",
       "        vertical-align: middle;\n",
       "    }\n",
       "\n",
       "    .dataframe tbody tr th {\n",
       "        vertical-align: top;\n",
       "    }\n",
       "\n",
       "    .dataframe thead th {\n",
       "        text-align: right;\n",
       "    }\n",
       "</style>\n",
       "<table border=\"1\" class=\"dataframe\">\n",
       "  <thead>\n",
       "    <tr style=\"text-align: right;\">\n",
       "      <th></th>\n",
       "      <th>Title</th>\n",
       "      <th>Year</th>\n",
       "      <th>Actor</th>\n",
       "      <th>US Box Office</th>\n",
       "      <th>International Revenue</th>\n",
       "      <th>Adjusted Revenue</th>\n",
       "      <th>Average Rating</th>\n",
       "      <th>IMDb Rating</th>\n",
       "      <th>Metacritic</th>\n",
       "      <th>Revenue Category</th>\n",
       "      <th>Rating Category</th>\n",
       "    </tr>\n",
       "  </thead>\n",
       "  <tbody>\n",
       "    <tr>\n",
       "      <th>0</th>\n",
       "      <td>Star Wars: Episode I - The Phantom Menace</td>\n",
       "      <td>1999</td>\n",
       "      <td>Ewan McGregor</td>\n",
       "      <td>$474,544,677</td>\n",
       "      <td>$1,027,082,707</td>\n",
       "      <td>$1,673,170,748</td>\n",
       "      <td>58.0%</td>\n",
       "      <td>6.5 / 10</td>\n",
       "      <td>51%</td>\n",
       "      <td>High</td>\n",
       "      <td>Low</td>\n",
       "    </tr>\n",
       "    <tr>\n",
       "      <th>1</th>\n",
       "      <td>Star Wars: Episode II - Attack of the Clones</td>\n",
       "      <td>2002</td>\n",
       "      <td>Hayden Christensen</td>\n",
       "      <td>$310,676,740</td>\n",
       "      <td>$653,779,970</td>\n",
       "      <td>$986,302,856</td>\n",
       "      <td>59.5%</td>\n",
       "      <td>6.5 / 10</td>\n",
       "      <td>54%</td>\n",
       "      <td>Low</td>\n",
       "      <td>Low</td>\n",
       "    </tr>\n",
       "    <tr>\n",
       "      <th>2</th>\n",
       "      <td>Star Wars: Episode III - Revenge of the Sith</td>\n",
       "      <td>2005</td>\n",
       "      <td>Hayden Christensen</td>\n",
       "      <td>$380,270,577</td>\n",
       "      <td>$868,390,560</td>\n",
       "      <td>$1,206,764,967</td>\n",
       "      <td>71.5%</td>\n",
       "      <td>7.5 / 10</td>\n",
       "      <td>68%</td>\n",
       "      <td>Average</td>\n",
       "      <td>Average</td>\n",
       "    </tr>\n",
       "    <tr>\n",
       "      <th>3</th>\n",
       "      <td>Star Wars: Episode IV - A New Hope</td>\n",
       "      <td>1977</td>\n",
       "      <td>Mark Hamill</td>\n",
       "      <td>$460,998,507</td>\n",
       "      <td>$775,398,007</td>\n",
       "      <td>$3,472,657,081</td>\n",
       "      <td>88.0%</td>\n",
       "      <td>8.6 / 10</td>\n",
       "      <td>90%</td>\n",
       "      <td>High</td>\n",
       "      <td>High</td>\n",
       "    </tr>\n",
       "    <tr>\n",
       "      <th>4</th>\n",
       "      <td>Star Wars: Episode V - The Empire Strikes Back</td>\n",
       "      <td>1980</td>\n",
       "      <td>Mark Hamill</td>\n",
       "      <td>$292,753,960</td>\n",
       "      <td>$538,375,067</td>\n",
       "      <td>$1,773,240,209</td>\n",
       "      <td>84.5%</td>\n",
       "      <td>8.7 / 10</td>\n",
       "      <td>82%</td>\n",
       "      <td>High</td>\n",
       "      <td>High</td>\n",
       "    </tr>\n",
       "    <tr>\n",
       "      <th>5</th>\n",
       "      <td>Star Wars: Episode VI - Return of the Jedi</td>\n",
       "      <td>1983</td>\n",
       "      <td>Mark Hamill</td>\n",
       "      <td>$309,306,177</td>\n",
       "      <td>$475,106,177</td>\n",
       "      <td>$1,294,616,631</td>\n",
       "      <td>70.5%</td>\n",
       "      <td>8.3 / 10</td>\n",
       "      <td>58%</td>\n",
       "      <td>Average</td>\n",
       "      <td>Average</td>\n",
       "    </tr>\n",
       "    <tr>\n",
       "      <th>6</th>\n",
       "      <td>Star Wars: Episode VII - The Force Awakens</td>\n",
       "      <td>2015</td>\n",
       "      <td>Daisy Ridley</td>\n",
       "      <td>$936,662,225</td>\n",
       "      <td>$2,068,455,677</td>\n",
       "      <td>$2,368,687,218</td>\n",
       "      <td>79.5%</td>\n",
       "      <td>7.9 / 10</td>\n",
       "      <td>80%</td>\n",
       "      <td>High</td>\n",
       "      <td>High</td>\n",
       "    </tr>\n",
       "    <tr>\n",
       "      <th>7</th>\n",
       "      <td>Star Wars: Episode VIII - The Last Jedi</td>\n",
       "      <td>2017</td>\n",
       "      <td>Daisy Ridley</td>\n",
       "      <td>$620,181,382</td>\n",
       "      <td>$1,332,698,830</td>\n",
       "      <td>$1,475,701,601</td>\n",
       "      <td>77.0%</td>\n",
       "      <td>7.0 / 10</td>\n",
       "      <td>84%</td>\n",
       "      <td>Average</td>\n",
       "      <td>High</td>\n",
       "    </tr>\n",
       "    <tr>\n",
       "      <th>8</th>\n",
       "      <td>Star Wars: Episode IX - The Rise of Skywalker</td>\n",
       "      <td>2019</td>\n",
       "      <td>Daisy Ridley</td>\n",
       "      <td>$515,202,542</td>\n",
       "      <td>$1,074,144,248</td>\n",
       "      <td>$1,140,096,789</td>\n",
       "      <td>59.5%</td>\n",
       "      <td>6.6 / 10</td>\n",
       "      <td>53%</td>\n",
       "      <td>Low</td>\n",
       "      <td>Low</td>\n",
       "    </tr>\n",
       "    <tr>\n",
       "      <th>9</th>\n",
       "      <td>Rogue One: A Star Wars Story</td>\n",
       "      <td>2016</td>\n",
       "      <td>Felicity Jones</td>\n",
       "      <td>$532,177,324</td>\n",
       "      <td>$1,056,057,720</td>\n",
       "      <td>$1,194,225,272</td>\n",
       "      <td>71.5%</td>\n",
       "      <td>7.8 / 10</td>\n",
       "      <td>65%</td>\n",
       "      <td>Low</td>\n",
       "      <td>Average</td>\n",
       "    </tr>\n",
       "    <tr>\n",
       "      <th>10</th>\n",
       "      <td>Solo: A Star Wars Story</td>\n",
       "      <td>2018</td>\n",
       "      <td>Alden Ehrenreich</td>\n",
       "      <td>$213,767,512</td>\n",
       "      <td>$392,924,807</td>\n",
       "      <td>$424,690,532</td>\n",
       "      <td>65.5%</td>\n",
       "      <td>6.9 / 10</td>\n",
       "      <td>62%</td>\n",
       "      <td>Low</td>\n",
       "      <td>Low</td>\n",
       "    </tr>\n",
       "  </tbody>\n",
       "</table>\n",
       "</div>"
      ],
      "text/plain": [
       "                                             Title  Year               Actor  \\\n",
       "0        Star Wars: Episode I - The Phantom Menace  1999       Ewan McGregor   \n",
       "1     Star Wars: Episode II - Attack of the Clones  2002  Hayden Christensen   \n",
       "2     Star Wars: Episode III - Revenge of the Sith  2005  Hayden Christensen   \n",
       "3               Star Wars: Episode IV - A New Hope  1977         Mark Hamill   \n",
       "4   Star Wars: Episode V - The Empire Strikes Back  1980         Mark Hamill   \n",
       "5       Star Wars: Episode VI - Return of the Jedi  1983         Mark Hamill   \n",
       "6       Star Wars: Episode VII - The Force Awakens  2015        Daisy Ridley   \n",
       "7          Star Wars: Episode VIII - The Last Jedi  2017        Daisy Ridley   \n",
       "8    Star Wars: Episode IX - The Rise of Skywalker  2019        Daisy Ridley   \n",
       "9                     Rogue One: A Star Wars Story  2016      Felicity Jones   \n",
       "10                         Solo: A Star Wars Story  2018    Alden Ehrenreich   \n",
       "\n",
       "   US Box Office International Revenue Adjusted Revenue Average Rating  \\\n",
       "0   $474,544,677        $1,027,082,707   $1,673,170,748          58.0%   \n",
       "1   $310,676,740          $653,779,970     $986,302,856          59.5%   \n",
       "2   $380,270,577          $868,390,560   $1,206,764,967          71.5%   \n",
       "3   $460,998,507          $775,398,007   $3,472,657,081          88.0%   \n",
       "4   $292,753,960          $538,375,067   $1,773,240,209          84.5%   \n",
       "5   $309,306,177          $475,106,177   $1,294,616,631          70.5%   \n",
       "6   $936,662,225        $2,068,455,677   $2,368,687,218          79.5%   \n",
       "7   $620,181,382        $1,332,698,830   $1,475,701,601          77.0%   \n",
       "8   $515,202,542        $1,074,144,248   $1,140,096,789          59.5%   \n",
       "9   $532,177,324        $1,056,057,720   $1,194,225,272          71.5%   \n",
       "10  $213,767,512          $392,924,807     $424,690,532          65.5%   \n",
       "\n",
       "   IMDb Rating Metacritic Revenue Category Rating Category  \n",
       "0     6.5 / 10        51%             High             Low  \n",
       "1     6.5 / 10        54%              Low             Low  \n",
       "2     7.5 / 10        68%          Average         Average  \n",
       "3     8.6 / 10        90%             High            High  \n",
       "4     8.7 / 10        82%             High            High  \n",
       "5     8.3 / 10        58%          Average         Average  \n",
       "6     7.9 / 10        80%             High            High  \n",
       "7     7.0 / 10        84%          Average            High  \n",
       "8     6.6 / 10        53%              Low             Low  \n",
       "9     7.8 / 10        65%              Low         Average  \n",
       "10    6.9 / 10        62%              Low             Low  "
      ]
     },
     "execution_count": 5,
     "metadata": {},
     "output_type": "execute_result"
    }
   ],
   "source": [
    "df_display"
   ]
  },
  {
   "cell_type": "markdown",
   "metadata": {},
   "source": [
    "### Display graphs of data to be predicted"
   ]
  },
  {
   "cell_type": "code",
   "execution_count": 6,
   "metadata": {},
   "outputs": [
    {
     "name": "stdout",
     "output_type": "stream",
     "text": [
      "The franchise has seen revenue decrease over time\n"
     ]
    },
    {
     "data": {
      "image/png": "[encoded data removed]",
      "text/plain": [
       "<Figure size 432x288 with 1 Axes>"
      ]
     },
     "metadata": {
      "needs_background": "light"
     },
     "output_type": "display_data"
    }
   ],
   "source": [
    "# Create the Revenue Plot\n",
    "x = df['Year'].tolist()\n",
    "y = df['Adjusted Revenue'].tolist()\n",
    "plt.scatter(x, y)\n",
    "\n",
    "# Create the Trendline\n",
    "z = np.polyfit(x, y, 1)  # Gets values for trendline equation \n",
    "p = np.poly1d(z)  # Creates the trendline equation\n",
    "plt.plot(x,p(x), color = 'red')\n",
    "\n",
    "# Display the results\n",
    "if z[0] > 0.05:\n",
    "    print('The franchines has seen revenue increase over time')\n",
    "elif z[0] < -0.05:\n",
    "    print('The franchise has seen revenue decrease over time')\n",
    "else:\n",
    "    print('The franchise has maintained a consistent revenue over time')\n",
    "plt.show()"
   ]
  },
  {
   "cell_type": "code",
   "execution_count": 7,
   "metadata": {},
   "outputs": [
    {
     "name": "stdout",
     "output_type": "stream",
     "text": [
      "The franchise has seen review scores decline over time\n"
     ]
    },
    {
     "data": {
      "image/png": "[encoded data removed]",
      "text/plain": [
       "<Figure size 432x288 with 1 Axes>"
      ]
     },
     "metadata": {
      "needs_background": "light"
     },
     "output_type": "display_data"
    }
   ],
   "source": [
    "# Create the Average Review Score Plot\n",
    "x = df['Year'].tolist()\n",
    "y = df['Average Rating'].tolist()\n",
    "plt.scatter(x, y)\n",
    "\n",
    "# Create the Trendline\n",
    "z = np.polyfit(x, y, 1)  # Gets values for trendline equation \n",
    "p = np.poly1d(z)  # Creates the trendline equation\n",
    "plt.plot(x,p(x), color = 'red')\n",
    "\n",
    "# Display the results\n",
    "if z[0] > 0.05:\n",
    "    print('The franchines has seen review scores improve over time')\n",
    "elif z[0] < -0.05:\n",
    "    print('The franchise has seen review scores decline over time')\n",
    "else:\n",
    "    print('The franchise has maintained a consistent quality over time')\n",
    "plt.show()"
   ]
  },
  {
   "cell_type": "markdown",
   "metadata": {},
   "source": [
    "### Test Prediction Models Against Revenue Category"
   ]
  },
  {
   "cell_type": "code",
   "execution_count": 8,
   "metadata": {},
   "outputs": [],
   "source": [
    "# Use 1-hot encoding for the categorical features created by qcut()\n",
    "df_rev = df.copy()\n",
    "df_rev = pd.get_dummies(df_rev, columns=['Rating Category'], prefix = ['Rating'])\n",
    "df_rev = df_rev.drop(['Title', 'Actor'], axis=1)"
   ]
  },
  {
   "cell_type": "code",
   "execution_count": 9,
   "metadata": {},
   "outputs": [],
   "source": [
    "# Set X and Y for the training set\n",
    "y = df_rev['Revenue Category']\n",
    "df_rev = df_rev.drop(['Revenue Category'], axis=1)\n",
    "\n",
    "# Scale the data\n",
    "from sklearn.preprocessing import StandardScaler\n",
    "std_scaler = StandardScaler()\n",
    "data_scaled = std_scaler.fit_transform(df_rev)\n",
    "\n",
    "# Set the X for the training set\n",
    "X = data_scaled\n",
    "\n",
    "# Build the training and test sets\n",
    "from sklearn.model_selection import train_test_split\n",
    "X_train, X_test, y_train, y_test = train_test_split(X, y, test_size=0.5, random_state=1)"
   ]
  },
  {
   "cell_type": "code",
   "execution_count": 10,
   "metadata": {},
   "outputs": [
    {
     "name": "stdout",
     "output_type": "stream",
     "text": [
      "Accuracy of Revenue Category Prediction using KNN: 33.33%\n"
     ]
    }
   ],
   "source": [
    "# Create the KNN model\n",
    "from sklearn.neighbors import KNeighborsClassifier\n",
    "knn = KNeighborsClassifier()\n",
    "knn.fit(X_train, y_train)\n",
    "\n",
    "# Make predictions for 'Rating Category' and 'Revenue Category'\n",
    "y_pred = knn.predict(X_test)\n",
    "\n",
    "# Print the Accuracy score\n",
    "from sklearn.metrics import accuracy_score\n",
    "score = accuracy_score(y_test, y_pred) * 100\n",
    "score = \"{:,.2f}%\".format(score)\n",
    "print('Accuracy of Revenue Category Prediction using KNN: '+ score)"
   ]
  },
  {
   "cell_type": "code",
   "execution_count": 11,
   "metadata": {},
   "outputs": [
    {
     "name": "stdout",
     "output_type": "stream",
     "text": [
      "Accuracy of Revenue Category Prediction using DTC: 33.33%\n"
     ]
    }
   ],
   "source": [
    "# Create a DTC model\n",
    "from sklearn.tree import DecisionTreeClassifier\n",
    "clf = DecisionTreeClassifier(random_state=1)\n",
    "clf.fit(X_train, y_train)\n",
    "\n",
    "# Make the Prediction for 'Revenue Category'\n",
    "y_pred2 = clf.predict(X_test)\n",
    "\n",
    "# Print the results\n",
    "score = accuracy_score(y_test, y_pred) * 100\n",
    "score = \"{:,.2f}%\".format(score)\n",
    "print('Accuracy of Revenue Category Prediction using DTC: '+ score)"
   ]
  },
  {
   "cell_type": "code",
   "execution_count": 12,
   "metadata": {},
   "outputs": [],
   "source": [
    "# Predict Revenue for Hypothetical Next Movie"
   ]
  },
  {
   "cell_type": "markdown",
   "metadata": {},
   "source": [
    "### Test Prediction Models Against Ratings Category"
   ]
  },
  {
   "cell_type": "code",
   "execution_count": 13,
   "metadata": {},
   "outputs": [],
   "source": [
    "# Use 1-hot encoding for the categorical features created by qcut()\n",
    "df_rate = df.copy()\n",
    "df_rate = pd.get_dummies(df_rate, columns=['Revenue Category'], prefix = ['Revenue'])\n",
    "df_rate = df_rate.drop(['Title', 'Actor'], axis=1)"
   ]
  },
  {
   "cell_type": "code",
   "execution_count": 14,
   "metadata": {},
   "outputs": [],
   "source": [
    "# Set Y for the training set\n",
    "y2 = df_rate['Rating Category']\n",
    "df_rate = df_rate.drop(['Rating Category'], axis=1)\n",
    "\n",
    "# Scale the data\n",
    "from sklearn.preprocessing import StandardScaler\n",
    "std_scaler2 = StandardScaler()\n",
    "data_scaled2 = std_scaler2.fit_transform(df_rate)\n",
    "\n",
    "# Set the X for the training set\n",
    "X2 = data_scaled2\n",
    "\n",
    "# Build the training and test sets\n",
    "X2_train, X2_test, y2_train, y2_test = train_test_split(X2, y2, test_size=0.5, random_state=1)"
   ]
  },
  {
   "cell_type": "code",
   "execution_count": 15,
   "metadata": {},
   "outputs": [
    {
     "name": "stdout",
     "output_type": "stream",
     "text": [
      "Accuracy of Revenue Category Prediction using KNN: 16.67%\n"
     ]
    }
   ],
   "source": [
    "# Create the KNN model\n",
    "knn2 = KNeighborsClassifier()\n",
    "knn2.fit(X2_train, y2_train)\n",
    "\n",
    "# Make predictions for 'Rating Category' and 'Revenue Category'\n",
    "y2_pred = knn2.predict(X2_test)\n",
    "\n",
    "# Print the Accuracy score\n",
    "score = accuracy_score(y2_test, y2_pred) * 100\n",
    "score = \"{:,.2f}%\".format(score)\n",
    "print('Accuracy of Revenue Category Prediction using KNN: '+ score)"
   ]
  },
  {
   "cell_type": "code",
   "execution_count": 16,
   "metadata": {},
   "outputs": [
    {
     "name": "stdout",
     "output_type": "stream",
     "text": [
      "Accuracy of Revenue Category Prediction using DTC: 16.67%\n"
     ]
    }
   ],
   "source": [
    "# Create a DTC model\n",
    "clf2 = DecisionTreeClassifier(random_state=1)\n",
    "clf2.fit(X2_train, y2_train)\n",
    "\n",
    "# Make the Prediction for 'Revenue Category'\n",
    "y2_pred2 = clf2.predict(X2_test)\n",
    "\n",
    "# Print the results\n",
    "score = accuracy_score(y2_test, y2_pred) * 100\n",
    "score = \"{:,.2f}%\".format(score)\n",
    "print('Accuracy of Revenue Category Prediction using DTC: '+ score)"
   ]
  },
  {
   "cell_type": "code",
   "execution_count": 17,
   "metadata": {},
   "outputs": [],
   "source": [
    "# Predict the Rating Category of a Hypothetical Next Movie"
   ]
  },
  {
   "cell_type": "markdown",
   "metadata": {},
   "source": [
    "### Conclusion"
   ]
  },
  {
   "cell_type": "code",
   "execution_count": 18,
   "metadata": {},
   "outputs": [],
   "source": [
    "# Show the predicted Revenue and Rating of the Hypothetical Next Film"
   ]
  }
 ],
 "metadata": {
  "interpreter": {
   "hash": "f7a0e8ff693c42c32d13963f7703adc445ab5b1d1f3221a168d89ca51b0c4118"
  },
  "kernelspec": {
   "display_name": "Python 3.9.2 64-bit",
   "language": "python",
   "name": "python3"
  },
  "language_info": {
   "codemirror_mode": {
    "name": "ipython",
    "version": 3
   },
   "file_extension": ".py",
   "mimetype": "text/x-python",
   "name": "python",
   "nbconvert_exporter": "python",
   "pygments_lexer": "ipython3",
   "version": "3.9.2"
  },
  "orig_nbformat": 4
 },
 "nbformat": 4,
 "nbformat_minor": 2
}
