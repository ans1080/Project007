{
 "cells": [
  {
   "cell_type": "code",
   "execution_count": 55,
   "metadata": {},
   "outputs": [],
   "source": [
    "import pandas as pd\n",
    "import math\n",
    "import matplotlib.pyplot as plt\n",
    "import numpy as np\n",
    "pd.options.mode.chained_assignment = None  # Gets rid of the copy warning\n",
    "\n",
    "# Create the dataframe\n",
    "df = pd.read_csv('data/FastFurious_data.csv', skiprows=1)  # Change file to read in here\n",
    "df_display = df.copy()\n"
   ]
  },
  {
   "cell_type": "markdown",
   "metadata": {},
   "source": [
    "### Data Cleaning and Feature Engineering"
   ]
  },
  {
   "cell_type": "code",
   "execution_count": 56,
   "metadata": {},
   "outputs": [],
   "source": [
    "# Turn all numeric columns from formatted strings into floats\n",
    "df['Adjusted Revenue'] = df['Adjusted Revenue'].apply(lambda x:  1 if x == 'No Data'  else float(x.replace(',', '').replace('$','')))\n",
    "df['US Box Office'] = df['US Box Office'].apply(lambda x: 1 if x == 'No Data'  else float(x.replace(',', '').replace('$','')))\n",
    "df['International Revenue'] = df['International Revenue'].apply(lambda x: 1 if x == 'No Data'  else float(x.replace(',', '').replace('$','').strip(' (est.)')))\n",
    "df['Average Rating'] = df['Average Rating'].apply(lambda x: float(x.replace('%', '')))\n",
    "df['Metacritic'] = df['Metacritic'].apply(lambda x: float(x.replace('%', '')))\n",
    "df['IMDb Rating'] = df['IMDb Rating'].apply(lambda x: float(x.replace(' / 10', '').replace(' (est.)', '')))\n",
    "df['IMDb Rating'] = df['IMDb Rating'].apply(lambda x: x*10)"
   ]
  },
  {
   "cell_type": "code",
   "execution_count": 57,
   "metadata": {},
   "outputs": [],
   "source": [
    "# Fill in 'No Data' entries with mean for column\n",
    "for index, row in df.iterrows():\n",
    "    if df['Adjusted Revenue'][index] == 1:\n",
    "        df['Adjusted Revenue'][index] = df['Adjusted Revenue'].mean()\n",
    "    if df['US Box Office'][index] == 1:\n",
    "        df['US Box Office'][index] = df['US Box Office'].mean()\n",
    "    if df['International Revenue'][index] == 1:\n",
    "        df['International Revenue'][index] = df['International Revenue'].mean()"
   ]
  },
  {
   "cell_type": "code",
   "execution_count": 58,
   "metadata": {},
   "outputs": [],
   "source": [
    "# Use qcut() to put adjusted revenue and Average Rating into 3 groups \n",
    "df['Revenue Category'] = pd.qcut(df['Adjusted Revenue'], q=3, labels=False)\n",
    "df['Rating Category'] = pd.qcut(df['Average Rating'], q=3, labels=False)\n",
    "\n",
    "# Add Changes to df_display (the formatted for viewing dataframe)\n",
    "df_display[[ 'Revenue Category', 'Rating Category']] = df[['Revenue Category', 'Rating Category']]\n",
    "\n",
    "# Change qcut numbers to qualatative categories in df_display\n",
    "bin = {\n",
    "    0: 'Low',\n",
    "    1: 'Average',\n",
    "    2: 'High'\n",
    "}\n",
    "df_display['Rating Category'] = df_display['Rating Category'].map(bin)  # Both map() and apply() do the same thing with different syntax\n",
    "df_display['Revenue Category'] = df_display['Revenue Category'].apply(lambda x: 'Low' if x == 0 else ('Average' if x == 1 else 'High'))"
   ]
  },
  {
   "cell_type": "markdown",
   "metadata": {},
   "source": [
    "### New Column Explanation\n",
    "* Revenue Category classifes a movies earnings as high, average or low\n",
    "* Rating Categoy classifies movie ratings as high, average or low\n",
    "* These new columns will be predicted to test accuracy"
   ]
  },
  {
   "cell_type": "code",
   "execution_count": 59,
   "metadata": {},
   "outputs": [
    {
     "data": {
      "text/html": [
       "<div>\n",
       "<style scoped>\n",
       "    .dataframe tbody tr th:only-of-type {\n",
       "        vertical-align: middle;\n",
       "    }\n",
       "\n",
       "    .dataframe tbody tr th {\n",
       "        vertical-align: top;\n",
       "    }\n",
       "\n",
       "    .dataframe thead th {\n",
       "        text-align: right;\n",
       "    }\n",
       "</style>\n",
       "<table border=\"1\" class=\"dataframe\">\n",
       "  <thead>\n",
       "    <tr style=\"text-align: right;\">\n",
       "      <th></th>\n",
       "      <th>Title</th>\n",
       "      <th>Year</th>\n",
       "      <th>Actor</th>\n",
       "      <th>US Box Office</th>\n",
       "      <th>International Revenue</th>\n",
       "      <th>Adjusted Revenue</th>\n",
       "      <th>Average Rating</th>\n",
       "      <th>IMDb Rating</th>\n",
       "      <th>Metacritic</th>\n",
       "      <th>Revenue Category</th>\n",
       "      <th>Rating Category</th>\n",
       "    </tr>\n",
       "  </thead>\n",
       "  <tbody>\n",
       "    <tr>\n",
       "      <th>0</th>\n",
       "      <td>The Fast and the Furious</td>\n",
       "      <td>2001</td>\n",
       "      <td>Vin Diesel</td>\n",
       "      <td>$144,533,925</td>\n",
       "      <td>$207,305,509</td>\n",
       "      <td>$317,688,962</td>\n",
       "      <td>63.0%</td>\n",
       "      <td>6.8 / 10</td>\n",
       "      <td>58%</td>\n",
       "      <td>Low</td>\n",
       "      <td>Average</td>\n",
       "    </tr>\n",
       "    <tr>\n",
       "      <th>1</th>\n",
       "      <td>2 Fast 2 Furious</td>\n",
       "      <td>2003</td>\n",
       "      <td>Paul Walker</td>\n",
       "      <td>$127,154,901</td>\n",
       "      <td>$236,350,661</td>\n",
       "      <td>$348,617,225</td>\n",
       "      <td>48.5%</td>\n",
       "      <td>5.9 / 10</td>\n",
       "      <td>38%</td>\n",
       "      <td>Low</td>\n",
       "      <td>Low</td>\n",
       "    </tr>\n",
       "    <tr>\n",
       "      <th>2</th>\n",
       "      <td>The Fast and the Furious: Tokyo Drift</td>\n",
       "      <td>2006</td>\n",
       "      <td>Lucas Black</td>\n",
       "      <td>$62,514,415</td>\n",
       "      <td>$158,964,610</td>\n",
       "      <td>$214,002,952</td>\n",
       "      <td>52.5%</td>\n",
       "      <td>6.0 / 10</td>\n",
       "      <td>45%</td>\n",
       "      <td>Low</td>\n",
       "      <td>Low</td>\n",
       "    </tr>\n",
       "    <tr>\n",
       "      <th>3</th>\n",
       "      <td>Fast &amp; Furious</td>\n",
       "      <td>2009</td>\n",
       "      <td>Vin Diesel</td>\n",
       "      <td>$155,064,265</td>\n",
       "      <td>$360,366,870</td>\n",
       "      <td>$455,960,692</td>\n",
       "      <td>56.0%</td>\n",
       "      <td>6.6 / 10</td>\n",
       "      <td>46%</td>\n",
       "      <td>Average</td>\n",
       "      <td>Low</td>\n",
       "    </tr>\n",
       "    <tr>\n",
       "      <th>4</th>\n",
       "      <td>Fast Five</td>\n",
       "      <td>2011</td>\n",
       "      <td>Vin Diesel</td>\n",
       "      <td>$209,837,675</td>\n",
       "      <td>$626,137,675</td>\n",
       "      <td>$755,596,999</td>\n",
       "      <td>69.5%</td>\n",
       "      <td>7.3 / 10</td>\n",
       "      <td>66%</td>\n",
       "      <td>Average</td>\n",
       "      <td>High</td>\n",
       "    </tr>\n",
       "    <tr>\n",
       "      <th>5</th>\n",
       "      <td>Fast &amp; Furious 6</td>\n",
       "      <td>2013</td>\n",
       "      <td>Vin Diesel</td>\n",
       "      <td>$238,679,850</td>\n",
       "      <td>$788,680,968</td>\n",
       "      <td>$918,661,007</td>\n",
       "      <td>65.5%</td>\n",
       "      <td>7.0 / 10</td>\n",
       "      <td>61%</td>\n",
       "      <td>High</td>\n",
       "      <td>High</td>\n",
       "    </tr>\n",
       "    <tr>\n",
       "      <th>6</th>\n",
       "      <td>Furious 7</td>\n",
       "      <td>2015</td>\n",
       "      <td>Vin Diesel</td>\n",
       "      <td>$353,007,020</td>\n",
       "      <td>$1,515,255,622</td>\n",
       "      <td>$1,735,191,459</td>\n",
       "      <td>69.0%</td>\n",
       "      <td>7.1 / 10</td>\n",
       "      <td>67%</td>\n",
       "      <td>High</td>\n",
       "      <td>High</td>\n",
       "    </tr>\n",
       "    <tr>\n",
       "      <th>7</th>\n",
       "      <td>The Fate of the Furious</td>\n",
       "      <td>2017</td>\n",
       "      <td>Vin Diesel</td>\n",
       "      <td>$226,008,385</td>\n",
       "      <td>$1,236,005,118</td>\n",
       "      <td>$1,368,632,350</td>\n",
       "      <td>61.0%</td>\n",
       "      <td>6.6 / 10</td>\n",
       "      <td>56%</td>\n",
       "      <td>High</td>\n",
       "      <td>Average</td>\n",
       "    </tr>\n",
       "    <tr>\n",
       "      <th>8</th>\n",
       "      <td>Fast &amp; Furious Presents: Hobbs &amp; Shaw</td>\n",
       "      <td>2019</td>\n",
       "      <td>Dwayne Johnson</td>\n",
       "      <td>$173,956,935</td>\n",
       "      <td>$759,056,935</td>\n",
       "      <td>$805,663,090</td>\n",
       "      <td>62.0%</td>\n",
       "      <td>6.4 / 10</td>\n",
       "      <td>60%</td>\n",
       "      <td>Average</td>\n",
       "      <td>Average</td>\n",
       "    </tr>\n",
       "    <tr>\n",
       "      <th>9</th>\n",
       "      <td>F9</td>\n",
       "      <td>2021</td>\n",
       "      <td>Vin Diesel</td>\n",
       "      <td>No Data</td>\n",
       "      <td>$163,005,000</td>\n",
       "      <td>$163,005,000</td>\n",
       "      <td>54.0%</td>\n",
       "      <td>5.5 / 10</td>\n",
       "      <td>53%</td>\n",
       "      <td>Low</td>\n",
       "      <td>Low</td>\n",
       "    </tr>\n",
       "  </tbody>\n",
       "</table>\n",
       "</div>"
      ],
      "text/plain": [
       "                                   Title  Year           Actor US Box Office  \\\n",
       "0               The Fast and the Furious  2001      Vin Diesel  $144,533,925   \n",
       "1                       2 Fast 2 Furious  2003     Paul Walker  $127,154,901   \n",
       "2  The Fast and the Furious: Tokyo Drift  2006     Lucas Black   $62,514,415   \n",
       "3                         Fast & Furious  2009      Vin Diesel  $155,064,265   \n",
       "4                              Fast Five  2011      Vin Diesel  $209,837,675   \n",
       "5                       Fast & Furious 6  2013      Vin Diesel  $238,679,850   \n",
       "6                              Furious 7  2015      Vin Diesel  $353,007,020   \n",
       "7                The Fate of the Furious  2017      Vin Diesel  $226,008,385   \n",
       "8  Fast & Furious Presents: Hobbs & Shaw  2019  Dwayne Johnson  $173,956,935   \n",
       "9                                     F9  2021      Vin Diesel       No Data   \n",
       "\n",
       "  International Revenue Adjusted Revenue Average Rating IMDb Rating  \\\n",
       "0          $207,305,509     $317,688,962          63.0%    6.8 / 10   \n",
       "1          $236,350,661     $348,617,225          48.5%    5.9 / 10   \n",
       "2          $158,964,610     $214,002,952          52.5%    6.0 / 10   \n",
       "3          $360,366,870     $455,960,692          56.0%    6.6 / 10   \n",
       "4          $626,137,675     $755,596,999          69.5%    7.3 / 10   \n",
       "5          $788,680,968     $918,661,007          65.5%    7.0 / 10   \n",
       "6        $1,515,255,622   $1,735,191,459          69.0%    7.1 / 10   \n",
       "7        $1,236,005,118   $1,368,632,350          61.0%    6.6 / 10   \n",
       "8          $759,056,935     $805,663,090          62.0%    6.4 / 10   \n",
       "9          $163,005,000     $163,005,000          54.0%    5.5 / 10   \n",
       "\n",
       "  Metacritic Revenue Category Rating Category  \n",
       "0        58%              Low         Average  \n",
       "1        38%              Low             Low  \n",
       "2        45%              Low             Low  \n",
       "3        46%          Average             Low  \n",
       "4        66%          Average            High  \n",
       "5        61%             High            High  \n",
       "6        67%             High            High  \n",
       "7        56%             High         Average  \n",
       "8        60%          Average         Average  \n",
       "9        53%              Low             Low  "
      ]
     },
     "execution_count": 59,
     "metadata": {},
     "output_type": "execute_result"
    }
   ],
   "source": [
    "df_display"
   ]
  },
  {
   "cell_type": "markdown",
   "metadata": {},
   "source": [
    "### Display graphs of data to be predicted"
   ]
  },
  {
   "cell_type": "code",
   "execution_count": 60,
   "metadata": {},
   "outputs": [
    {
     "name": "stdout",
     "output_type": "stream",
     "text": [
      "The franchines has seen revenue increase over time\n"
     ]
    },
    {
     "data": {
      "image/png": "[encoded data removed]",
      "text/plain": [
       "<Figure size 432x288 with 1 Axes>"
      ]
     },
     "metadata": {
      "needs_background": "light"
     },
     "output_type": "display_data"
    }
   ],
   "source": [
    "# Create the Revenue Plot\n",
    "x = df['Year'].tolist()\n",
    "y = df['Adjusted Revenue'].tolist()\n",
    "plt.scatter(x, y)\n",
    "\n",
    "# Create the Trendline\n",
    "z = np.polyfit(x, y, 1)  # Gets values for trendline equation \n",
    "p = np.poly1d(z)  # Creates the trendline equation\n",
    "plt.plot(x,p(x), color = 'red')\n",
    "\n",
    "# Display the results\n",
    "if z[0] > 0.05:\n",
    "    print('The franchines has seen revenue increase over time')\n",
    "elif z[0] < -0.05:\n",
    "    print('The franchise has seen revenue decrease over time')\n",
    "else:\n",
    "    print('The franchise has maintained a consistent revenue over time')\n",
    "plt.show()"
   ]
  },
  {
   "cell_type": "code",
   "execution_count": 61,
   "metadata": {},
   "outputs": [
    {
     "name": "stdout",
     "output_type": "stream",
     "text": [
      "The franchines has seen review scores improve over time\n"
     ]
    },
    {
     "data": {
      "image/png": "[encoded data removed]",
      "text/plain": [
       "<Figure size 432x288 with 1 Axes>"
      ]
     },
     "metadata": {
      "needs_background": "light"
     },
     "output_type": "display_data"
    }
   ],
   "source": [
    "# Create the Average Review Score Plot\n",
    "x = df['Year'].tolist()\n",
    "y = df['Average Rating'].tolist()\n",
    "plt.scatter(x, y)\n",
    "\n",
    "# Create the Trendline\n",
    "z = np.polyfit(x, y, 1)  # Gets values for trendline equation \n",
    "p = np.poly1d(z)  # Creates the trendline equation\n",
    "plt.plot(x,p(x), color = 'red')\n",
    "\n",
    "# Display the results\n",
    "if z[0] > 0.05:\n",
    "    print('The franchines has seen review scores improve over time')\n",
    "elif z[0] < -0.05:\n",
    "    print('The franchise has seen review scores decline over time')\n",
    "else:\n",
    "    print('The franchise has maintained a consistent quality over time')\n",
    "plt.show()"
   ]
  },
  {
   "cell_type": "markdown",
   "metadata": {},
   "source": [
    "### Test Prediction Models Against Revenue Category"
   ]
  },
  {
   "cell_type": "code",
   "execution_count": 62,
   "metadata": {},
   "outputs": [],
   "source": [
    "# Use 1-hot encoding for the categorical features created by qcut()\n",
    "df_rev = df.copy()\n",
    "df_rev = pd.get_dummies(df_rev, columns=['Rating Category'], prefix = ['Rating'])\n",
    "df_rev = df_rev.drop(['Title', 'Actor'], axis=1)"
   ]
  },
  {
   "cell_type": "code",
   "execution_count": 63,
   "metadata": {},
   "outputs": [],
   "source": [
    "# Set X and Y for the training set\n",
    "y = df_rev['Revenue Category']\n",
    "df_rev = df_rev.drop(['Revenue Category'], axis=1)\n",
    "\n",
    "# Scale the data\n",
    "from sklearn.preprocessing import StandardScaler\n",
    "std_scaler = StandardScaler()\n",
    "data_scaled = std_scaler.fit_transform(df_rev)\n",
    "\n",
    "# Set the X for the training set\n",
    "X = data_scaled\n",
    "\n",
    "# Build the training and test sets\n",
    "from sklearn.model_selection import train_test_split\n",
    "X_train, X_test, y_train, y_test = train_test_split(X, y, test_size=0.25, random_state=1)"
   ]
  },
  {
   "cell_type": "code",
   "execution_count": 64,
   "metadata": {},
   "outputs": [
    {
     "name": "stdout",
     "output_type": "stream",
     "text": [
      "Accuracy of Revenue Category Prediction using KNN: 66.67%\n"
     ]
    }
   ],
   "source": [
    "# Create the KNN model\n",
    "from sklearn.neighbors import KNeighborsClassifier\n",
    "knn = KNeighborsClassifier(n_neighbors=2)\n",
    "knn.fit(X_train, y_train)\n",
    "\n",
    "# Make predictions for 'Rating Category' and 'Revenue Category'\n",
    "y_pred = knn.predict(X_test)\n",
    "\n",
    "# Print the Accuracy score\n",
    "from sklearn.metrics import accuracy_score\n",
    "score = accuracy_score(y_test, y_pred) * 100\n",
    "score = \"{:,.2f}%\".format(score)\n",
    "print('Accuracy of Revenue Category Prediction using KNN: '+ score)"
   ]
  },
  {
   "cell_type": "code",
   "execution_count": 65,
   "metadata": {},
   "outputs": [
    {
     "name": "stdout",
     "output_type": "stream",
     "text": [
      "Accuracy of Revenue Category Prediction using DTC: 66.67%\n"
     ]
    }
   ],
   "source": [
    "# Create a DTC model\n",
    "from sklearn.tree import DecisionTreeClassifier\n",
    "clf = DecisionTreeClassifier(random_state=1)\n",
    "clf.fit(X_train, y_train)\n",
    "\n",
    "# Make the Prediction for 'Revenue Category'\n",
    "y_pred2 = clf.predict(X_test)\n",
    "\n",
    "# Print the results\n",
    "score = accuracy_score(y_test, y_pred) * 100\n",
    "score = \"{:,.2f}%\".format(score)\n",
    "print('Accuracy of Revenue Category Prediction using DTC: '+ score)"
   ]
  },
  {
   "cell_type": "code",
   "execution_count": 66,
   "metadata": {},
   "outputs": [],
   "source": [
    "# Predict Revenue for Hypothetical Next Movie"
   ]
  },
  {
   "cell_type": "markdown",
   "metadata": {},
   "source": [
    "### Test Prediction Models Against Ratings Category"
   ]
  },
  {
   "cell_type": "code",
   "execution_count": 67,
   "metadata": {},
   "outputs": [],
   "source": [
    "# Use 1-hot encoding for the categorical features created by qcut()\n",
    "df_rate = df.copy()\n",
    "df_rate = pd.get_dummies(df_rate, columns=['Revenue Category'], prefix = ['Revenue'])\n",
    "df_rate = df_rate.drop(['Title', 'Actor'], axis=1)"
   ]
  },
  {
   "cell_type": "code",
   "execution_count": 68,
   "metadata": {},
   "outputs": [],
   "source": [
    "# Set Y for the training set\n",
    "y2 = df_rate['Rating Category']\n",
    "df_rate = df_rate.drop(['Rating Category'], axis=1)\n",
    "\n",
    "# Scale the data\n",
    "from sklearn.preprocessing import StandardScaler\n",
    "std_scaler2 = StandardScaler()\n",
    "data_scaled2 = std_scaler2.fit_transform(df_rate)\n",
    "\n",
    "# Set the X for the training set\n",
    "X2 = data_scaled2\n",
    "\n",
    "# Build the training and test sets\n",
    "X2_train, X2_test, y2_train, y2_test = train_test_split(X2, y2, test_size=0.25, random_state=1)"
   ]
  },
  {
   "cell_type": "code",
   "execution_count": 69,
   "metadata": {},
   "outputs": [
    {
     "name": "stdout",
     "output_type": "stream",
     "text": [
      "Accuracy of Revenue Category Prediction using KNN: 66.67%\n"
     ]
    }
   ],
   "source": [
    "# Create the KNN model\n",
    "knn2 = KNeighborsClassifier(n_neighbors=2)\n",
    "knn2.fit(X2_train, y2_train)\n",
    "\n",
    "# Make predictions for 'Rating Category' and 'Revenue Category'\n",
    "y2_pred = knn2.predict(X2_test)\n",
    "\n",
    "# Print the Accuracy score\n",
    "score = accuracy_score(y2_test, y2_pred) * 100\n",
    "score = \"{:,.2f}%\".format(score)\n",
    "print('Accuracy of Revenue Category Prediction using KNN: '+ score)"
   ]
  },
  {
   "cell_type": "code",
   "execution_count": 70,
   "metadata": {},
   "outputs": [
    {
     "name": "stdout",
     "output_type": "stream",
     "text": [
      "Accuracy of Revenue Category Prediction using DTC: 66.67%\n"
     ]
    }
   ],
   "source": [
    "# Create a DTC model\n",
    "clf2 = DecisionTreeClassifier(random_state=1)\n",
    "clf2.fit(X2_train, y2_train)\n",
    "\n",
    "# Make the Prediction for 'Revenue Category'\n",
    "y2_pred2 = clf2.predict(X2_test)\n",
    "\n",
    "# Print the results\n",
    "score = accuracy_score(y2_test, y2_pred) * 100\n",
    "score = \"{:,.2f}%\".format(score)\n",
    "print('Accuracy of Revenue Category Prediction using DTC: '+ score)"
   ]
  },
  {
   "cell_type": "code",
   "execution_count": 71,
   "metadata": {},
   "outputs": [],
   "source": [
    "# Predict the Rating Category of a Hypothetical Next Movie"
   ]
  },
  {
   "cell_type": "markdown",
   "metadata": {},
   "source": [
    "### Conclusion"
   ]
  },
  {
   "cell_type": "code",
   "execution_count": 72,
   "metadata": {},
   "outputs": [],
   "source": [
    "# Show the predicted Revenue and Rating of the Hypothetical Next Film"
   ]
  }
 ],
 "metadata": {
  "interpreter": {
   "hash": "f7a0e8ff693c42c32d13963f7703adc445ab5b1d1f3221a168d89ca51b0c4118"
  },
  "kernelspec": {
   "display_name": "Python 3.9.2 64-bit",
   "language": "python",
   "name": "python3"
  },
  "language_info": {
   "codemirror_mode": {
    "name": "ipython",
    "version": 3
   },
   "file_extension": ".py",
   "mimetype": "text/x-python",
   "name": "python",
   "nbconvert_exporter": "python",
   "pygments_lexer": "ipython3",
   "version": "3.9.2"
  },
  "orig_nbformat": 4
 },
 "nbformat": 4,
 "nbformat_minor": 2
}
